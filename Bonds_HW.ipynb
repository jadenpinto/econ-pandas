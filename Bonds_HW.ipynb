{
 "cells": [
  {
   "cell_type": "code",
   "execution_count": 102,
   "id": "3b918ba4",
   "metadata": {},
   "outputs": [],
   "source": [
    "import pandas as pd\n",
    "import numpy as np\n",
    "import matplotlib.pyplot as plt"
   ]
  },
  {
   "cell_type": "code",
   "execution_count": 103,
   "id": "f0d0caae",
   "metadata": {},
   "outputs": [],
   "source": [
    "treasury_data = \"treasury_quotes_2025-04-30.xlsx\""
   ]
  },
  {
   "cell_type": "code",
   "execution_count": 104,
   "id": "575305cf",
   "metadata": {},
   "outputs": [
    {
     "data": {
      "text/plain": [
       "['quotes', 'selected quotes']"
      ]
     },
     "execution_count": 104,
     "metadata": {},
     "output_type": "execute_result"
    }
   ],
   "source": [
    "tabs = pd.ExcelFile(treasury_data).sheet_names \n",
    "tabs"
   ]
  },
  {
   "cell_type": "markdown",
   "id": "3d39a7ba",
   "metadata": {},
   "source": [
    "# 1. Treasury Debt Composition"
   ]
  },
  {
   "cell_type": "code",
   "execution_count": 105,
   "id": "76dc5b15",
   "metadata": {},
   "outputs": [],
   "source": [
    "df = pd.read_excel(treasury_data, \"quotes\")"
   ]
  },
  {
   "cell_type": "code",
   "execution_count": 106,
   "id": "d87bef46",
   "metadata": {},
   "outputs": [
    {
     "data": {
      "text/html": [
       "<div>\n",
       "<style scoped>\n",
       "    .dataframe tbody tr th:only-of-type {\n",
       "        vertical-align: middle;\n",
       "    }\n",
       "\n",
       "    .dataframe tbody tr th {\n",
       "        vertical-align: top;\n",
       "    }\n",
       "\n",
       "    .dataframe thead th {\n",
       "        text-align: right;\n",
       "    }\n",
       "</style>\n",
       "<table border=\"1\" class=\"dataframe\">\n",
       "  <thead>\n",
       "    <tr style=\"text-align: right;\">\n",
       "      <th></th>\n",
       "      <th>KYTREASNO</th>\n",
       "      <th>ttm</th>\n",
       "      <th>accrual fraction</th>\n",
       "      <th>cpn rate</th>\n",
       "      <th>bid</th>\n",
       "      <th>ask</th>\n",
       "      <th>price</th>\n",
       "      <th>accrued int</th>\n",
       "      <th>dirty price</th>\n",
       "      <th>ytm</th>\n",
       "      <th>total size</th>\n",
       "    </tr>\n",
       "  </thead>\n",
       "  <tbody>\n",
       "    <tr>\n",
       "      <th>count</th>\n",
       "      <td>449.000000</td>\n",
       "      <td>449.000000</td>\n",
       "      <td>398.000000</td>\n",
       "      <td>449.000000</td>\n",
       "      <td>449.000000</td>\n",
       "      <td>449.000000</td>\n",
       "      <td>449.000000</td>\n",
       "      <td>449.000000</td>\n",
       "      <td>449.000000</td>\n",
       "      <td>396.000000</td>\n",
       "      <td>4.480000e+02</td>\n",
       "    </tr>\n",
       "    <tr>\n",
       "      <th>mean</th>\n",
       "      <td>207616.042316</td>\n",
       "      <td>6.907890</td>\n",
       "      <td>0.451134</td>\n",
       "      <td>2.591314</td>\n",
       "      <td>94.739339</td>\n",
       "      <td>94.784678</td>\n",
       "      <td>94.762008</td>\n",
       "      <td>0.639264</td>\n",
       "      <td>95.401272</td>\n",
       "      <td>0.040336</td>\n",
       "      <td>6.239472e+10</td>\n",
       "    </tr>\n",
       "    <tr>\n",
       "      <th>std</th>\n",
       "      <td>927.905288</td>\n",
       "      <td>8.228579</td>\n",
       "      <td>0.326784</td>\n",
       "      <td>1.714264</td>\n",
       "      <td>10.875317</td>\n",
       "      <td>10.853948</td>\n",
       "      <td>10.864615</td>\n",
       "      <td>0.653028</td>\n",
       "      <td>10.931811</td>\n",
       "      <td>0.004633</td>\n",
       "      <td>3.915569e+10</td>\n",
       "    </tr>\n",
       "    <tr>\n",
       "      <th>min</th>\n",
       "      <td>204085.000000</td>\n",
       "      <td>0.002738</td>\n",
       "      <td>0.000000</td>\n",
       "      <td>0.000000</td>\n",
       "      <td>48.640625</td>\n",
       "      <td>48.714844</td>\n",
       "      <td>48.677734</td>\n",
       "      <td>0.000000</td>\n",
       "      <td>49.250939</td>\n",
       "      <td>0.000000</td>\n",
       "      <td>8.810000e+09</td>\n",
       "    </tr>\n",
       "    <tr>\n",
       "      <th>25%</th>\n",
       "      <td>207361.000000</td>\n",
       "      <td>1.084189</td>\n",
       "      <td>0.163934</td>\n",
       "      <td>1.125000</td>\n",
       "      <td>93.406250</td>\n",
       "      <td>93.433594</td>\n",
       "      <td>93.419922</td>\n",
       "      <td>0.000000</td>\n",
       "      <td>93.723622</td>\n",
       "      <td>0.036599</td>\n",
       "      <td>4.196650e+10</td>\n",
       "    </tr>\n",
       "    <tr>\n",
       "      <th>50%</th>\n",
       "      <td>207905.000000</td>\n",
       "      <td>3.252567</td>\n",
       "      <td>0.408840</td>\n",
       "      <td>2.875000</td>\n",
       "      <td>98.925781</td>\n",
       "      <td>98.943894</td>\n",
       "      <td>98.942631</td>\n",
       "      <td>0.460981</td>\n",
       "      <td>99.190983</td>\n",
       "      <td>0.039217</td>\n",
       "      <td>5.269300e+10</td>\n",
       "    </tr>\n",
       "    <tr>\n",
       "      <th>75%</th>\n",
       "      <td>208228.000000</td>\n",
       "      <td>8.796715</td>\n",
       "      <td>0.829670</td>\n",
       "      <td>4.125000</td>\n",
       "      <td>100.570312</td>\n",
       "      <td>100.613281</td>\n",
       "      <td>100.585937</td>\n",
       "      <td>1.074176</td>\n",
       "      <td>101.481081</td>\n",
       "      <td>0.042967</td>\n",
       "      <td>7.027725e+10</td>\n",
       "    </tr>\n",
       "    <tr>\n",
       "      <th>max</th>\n",
       "      <td>208389.000000</td>\n",
       "      <td>29.796030</td>\n",
       "      <td>0.917127</td>\n",
       "      <td>6.875000</td>\n",
       "      <td>111.453125</td>\n",
       "      <td>111.523438</td>\n",
       "      <td>111.488281</td>\n",
       "      <td>2.980663</td>\n",
       "      <td>114.354303</td>\n",
       "      <td>0.048261</td>\n",
       "      <td>2.949850e+11</td>\n",
       "    </tr>\n",
       "  </tbody>\n",
       "</table>\n",
       "</div>"
      ],
      "text/plain": [
       "           KYTREASNO         ttm  accrual fraction    cpn rate         bid  \\\n",
       "count     449.000000  449.000000        398.000000  449.000000  449.000000   \n",
       "mean   207616.042316    6.907890          0.451134    2.591314   94.739339   \n",
       "std       927.905288    8.228579          0.326784    1.714264   10.875317   \n",
       "min    204085.000000    0.002738          0.000000    0.000000   48.640625   \n",
       "25%    207361.000000    1.084189          0.163934    1.125000   93.406250   \n",
       "50%    207905.000000    3.252567          0.408840    2.875000   98.925781   \n",
       "75%    208228.000000    8.796715          0.829670    4.125000  100.570312   \n",
       "max    208389.000000   29.796030          0.917127    6.875000  111.453125   \n",
       "\n",
       "              ask       price  accrued int  dirty price         ytm  \\\n",
       "count  449.000000  449.000000   449.000000   449.000000  396.000000   \n",
       "mean    94.784678   94.762008     0.639264    95.401272    0.040336   \n",
       "std     10.853948   10.864615     0.653028    10.931811    0.004633   \n",
       "min     48.714844   48.677734     0.000000    49.250939    0.000000   \n",
       "25%     93.433594   93.419922     0.000000    93.723622    0.036599   \n",
       "50%     98.943894   98.942631     0.460981    99.190983    0.039217   \n",
       "75%    100.613281  100.585937     1.074176   101.481081    0.042967   \n",
       "max    111.523438  111.488281     2.980663   114.354303    0.048261   \n",
       "\n",
       "         total size  \n",
       "count  4.480000e+02  \n",
       "mean   6.239472e+10  \n",
       "std    3.915569e+10  \n",
       "min    8.810000e+09  \n",
       "25%    4.196650e+10  \n",
       "50%    5.269300e+10  \n",
       "75%    7.027725e+10  \n",
       "max    2.949850e+11  "
      ]
     },
     "execution_count": 106,
     "metadata": {},
     "output_type": "execute_result"
    }
   ],
   "source": [
    "df.describe()"
   ]
  },
  {
   "cell_type": "markdown",
   "id": "ab41aaf7",
   "metadata": {},
   "source": [
    "## 1.1"
   ]
  },
  {
   "cell_type": "code",
   "execution_count": 107,
   "id": "134c8aab",
   "metadata": {},
   "outputs": [
    {
     "data": {
      "image/png": "[encoded data removed]",
      "text/plain": [
       "<Figure size 640x480 with 1 Axes>"
      ]
     },
     "metadata": {},
     "output_type": "display_data"
    }
   ],
   "source": [
    "# 1. sum total size for each combination of maturity date & type\n",
    "# For each maturity date, you can see the total sum of each type of treasury\n",
    "# For maturity date - resmaple it by year (Y), by summing all trasuries maturity in that year\n",
    "pivot_table_df = pd.pivot_table(df, values='total size', index='maturity date', aggfunc='sum', columns='type').resample('Y').sum()\n",
    "# 2. Plot total debt by summing the values of all columns (treasury types) for each row (maturity year)\n",
    "pivot_table_df.sum(axis=1).plot();"
   ]
  },
  {
   "cell_type": "markdown",
   "id": "c6936809",
   "metadata": {},
   "source": [
    "## 1.2"
   ]
  },
  {
   "cell_type": "code",
   "execution_count": 108,
   "id": "4ea5eb1c",
   "metadata": {},
   "outputs": [
    {
     "data": {
      "text/plain": [
       "<AxesSubplot:xlabel='maturity date'>"
      ]
     },
     "execution_count": 108,
     "metadata": {},
     "output_type": "execute_result"
    },
    {
     "data": {
      "image/png": "[encoded data removed]",
      "text/plain": [
       "<Figure size 640x480 with 1 Axes>"
      ]
     },
     "metadata": {},
     "output_type": "display_data"
    }
   ],
   "source": [
    "# Create TIPS col:\n",
    "pivot_table_df[\"TIPS\"] = pivot_table_df[\"TIPS bond\"] + pivot_table_df[\"TIPS note\"]\n",
    "# Plot data:\n",
    "pivot_table_df[[\"TIPS\", \"bond\", \"note\"]].plot()"
   ]
  },
  {
   "cell_type": "markdown",
   "id": "ae7e1f35",
   "metadata": {},
   "source": [
    "## 1.3"
   ]
  },
  {
   "cell_type": "code",
   "execution_count": 109,
   "id": "8e12dac0",
   "metadata": {},
   "outputs": [
    {
     "data": {
      "text/plain": [
       "type\n",
       "TIPS bond    5.738150e+11\n",
       "TIPS note    1.453836e+12\n",
       "bill         6.060022e+12\n",
       "bond         4.957438e+12\n",
       "note         1.490772e+13\n",
       "Name: total size, dtype: float64"
      ]
     },
     "execution_count": 109,
     "metadata": {},
     "output_type": "execute_result"
    }
   ],
   "source": [
    "debts_by_type  = df.groupby('type')\n",
    "\n",
    "total_debt_by_type = debts_by_type['total size'].sum()\n",
    "\n",
    "total_debt_by_type"
   ]
  },
  {
   "cell_type": "markdown",
   "id": "f40b3525",
   "metadata": {},
   "source": [
    "## 1.4"
   ]
  },
  {
   "cell_type": "code",
   "execution_count": 112,
   "id": "f67e8b07",
   "metadata": {},
   "outputs": [
    {
     "data": {
      "image/png": "[encoded data removed]",
      "text/plain": [
       "<Figure size 640x480 with 1 Axes>"
      ]
     },
     "metadata": {},
     "output_type": "display_data"
    }
   ],
   "source": [
    "plt.pie(total_debt_by_type, labels = total_debt_by_type.index)\n",
    "plt.show()"
   ]
  },
  {
   "cell_type": "code",
   "execution_count": 114,
   "id": "85436d6b",
   "metadata": {},
   "outputs": [
    {
     "data": {
      "text/plain": [
       "<AxesSubplot:xlabel='type'>"
      ]
     },
     "execution_count": 114,
     "metadata": {},
     "output_type": "execute_result"
    },
    {
     "data": {
      "image/png": "[encoded data removed]",
      "text/plain": [
       "<Figure size 640x480 with 1 Axes>"
      ]
     },
     "metadata": {},
     "output_type": "display_data"
    }
   ],
   "source": [
    "total_debt_by_type.plot(kind='bar')"
   ]
  },
  {
   "cell_type": "markdown",
   "id": "ae73382f",
   "metadata": {},
   "source": [
    "## 1.5"
   ]
  },
  {
   "cell_type": "code",
   "execution_count": 126,
   "id": "84964447",
   "metadata": {},
   "outputs": [
    {
     "data": {
      "text/plain": [
       "count                             449\n",
       "mean     2523 days 02:33:56.525612480\n",
       "std      3005 days 11:43:10.918794336\n",
       "min                   1 days 00:00:00\n",
       "25%                 396 days 00:00:00\n",
       "50%                1188 days 00:00:00\n",
       "75%                3213 days 00:00:00\n",
       "max               10883 days 00:00:00\n",
       "Name: _ttm, dtype: object"
      ]
     },
     "execution_count": 126,
     "metadata": {},
     "output_type": "execute_result"
    }
   ],
   "source": [
    "df['_ttm'] = df['maturity date'] - df['quote date']\n",
    "df['_ttm'].describe()"
   ]
  },
  {
   "cell_type": "markdown",
   "id": "dd0c2c1c",
   "metadata": {},
   "source": [
    "# 2 YTM and Price"
   ]
  },
  {
   "cell_type": "code",
   "execution_count": 90,
   "id": "16a61740",
   "metadata": {},
   "outputs": [],
   "source": [
    "from scipy.optimize import fsolve"
   ]
  },
  {
   "attachments": {
    "image.png": {
     "image/png": "[encoded data removed]"
    }
   },
   "cell_type": "markdown",
   "id": "766bf3dc",
   "metadata": {},
   "source": [
    "## 2.1\n",
    "\n",
    "![image.png](attachment:image.png)"
   ]
  },
  {
   "cell_type": "code",
   "execution_count": 148,
   "id": "38ba7871",
   "metadata": {},
   "outputs": [],
   "source": [
    "# Compute the price of bond:\n",
    "# n is the number of years to maturity\n",
    "# c is the coupon rate (a percentage)\n",
    "# F is the face value, F = 100\n",
    "# ytm is the YTM\n",
    "\n",
    "def bond_price(n, c, ytm, F=100):\n",
    "    price = 0\n",
    "    \n",
    "    for i in range(1, 2*n + 1):\n",
    "       price += ((F*c/2)) / ((1 + ytm/2) ** i)\n",
    "    \n",
    "    price += (F) / ((1 + ytm/2) ** (2*n))\n",
    "    \n",
    "    return price"
   ]
  },
  {
   "cell_type": "markdown",
   "id": "67ed9898",
   "metadata": {},
   "source": [
    "### 1"
   ]
  },
  {
   "cell_type": "code",
   "execution_count": 149,
   "id": "811e10f2",
   "metadata": {},
   "outputs": [
    {
     "data": {
      "text/plain": [
       "69.09134351494266"
      ]
     },
     "execution_count": 149,
     "metadata": {},
     "output_type": "execute_result"
    }
   ],
   "source": [
    "bond_price(n=30, c=3/100, ytm=5/100)"
   ]
  },
  {
   "cell_type": "markdown",
   "id": "73978d8d",
   "metadata": {},
   "source": [
    "### 2"
   ]
  },
  {
   "cell_type": "code",
   "execution_count": 151,
   "id": "47a6e072",
   "metadata": {},
   "outputs": [
    {
     "data": {
      "text/plain": [
       "0.03723106689117023"
      ]
     },
     "execution_count": 151,
     "metadata": {},
     "output_type": "execute_result"
    }
   ],
   "source": [
    "# F solve() finds root: value for which f(x) = 0\n",
    "\n",
    "# Given: Actual price of the bond\n",
    "# And we have the eqn to solve for the bond price\n",
    "# They are equal i.e. plugging in values into the function should give us the price of the bond\n",
    "# price_func = price => price_func - price = 0\n",
    "\n",
    "def ytm_solver(y, n, c, actual_bond_price):\n",
    "    return bond_price(n, c, y) - actual_bond_price\n",
    "\n",
    "n = 30\n",
    "c = 0.03\n",
    "actual_bond_price = 87\n",
    "    \n",
    "starting_ytm_guess = 0.05 # can use any reasonable value. 5% because we know current treasuries have YTM btw 4.5 & 5.5\n",
    "\n",
    "ytm_answer = fsolve(ytm_solver, starting_ytm_guess, args=(n, c, actual_bond_price))\n",
    "ytm = ytm_answer[0]\n",
    "ytm"
   ]
  },
  {
   "cell_type": "code",
   "execution_count": 152,
   "id": "5a892985",
   "metadata": {},
   "outputs": [
    {
     "data": {
      "text/plain": [
       "86.99999999999982"
      ]
     },
     "execution_count": 152,
     "metadata": {},
     "output_type": "execute_result"
    }
   ],
   "source": [
    "# Verify ytm:\n",
    "price = bond_price(n, c, ytm)\n",
    "price # Shoulbe be 87"
   ]
  },
  {
   "cell_type": "markdown",
   "id": "520eaa7f",
   "metadata": {},
   "source": [
    "## 2.2"
   ]
  },
  {
   "cell_type": "code",
   "execution_count": 154,
   "id": "352b3ebd",
   "metadata": {},
   "outputs": [],
   "source": [
    "df = pd.read_excel(treasury_data, \"selected quotes\")"
   ]
  },
  {
   "cell_type": "code",
   "execution_count": 158,
   "id": "5428637e",
   "metadata": {},
   "outputs": [
    {
     "name": "stderr",
     "output_type": "stream",
     "text": [
      "C:\\Users\\DELL\\anaconda3\\lib\\site-packages\\scipy\\optimize\\_minpack_py.py:175: RuntimeWarning: The iteration is not making good progress, as measured by the \n",
      "  improvement from the last ten iterations.\n",
      "  warnings.warn(msg, RuntimeWarning)\n"
     ]
    },
    {
     "data": {
      "text/html": [
       "<div>\n",
       "<style scoped>\n",
       "    .dataframe tbody tr th:only-of-type {\n",
       "        vertical-align: middle;\n",
       "    }\n",
       "\n",
       "    .dataframe tbody tr th {\n",
       "        vertical-align: top;\n",
       "    }\n",
       "\n",
       "    .dataframe thead th {\n",
       "        text-align: right;\n",
       "    }\n",
       "</style>\n",
       "<table border=\"1\" class=\"dataframe\">\n",
       "  <thead>\n",
       "    <tr style=\"text-align: right;\">\n",
       "      <th></th>\n",
       "      <th>KYTREASNO</th>\n",
       "      <th>type</th>\n",
       "      <th>quote date</th>\n",
       "      <th>issue date</th>\n",
       "      <th>maturity date</th>\n",
       "      <th>ttm</th>\n",
       "      <th>accrual fraction</th>\n",
       "      <th>cpn rate</th>\n",
       "      <th>bid</th>\n",
       "      <th>ask</th>\n",
       "      <th>price</th>\n",
       "      <th>accrued int</th>\n",
       "      <th>dirty price</th>\n",
       "      <th>ytm</th>\n",
       "      <th>total size</th>\n",
       "      <th>computed_ytm</th>\n",
       "    </tr>\n",
       "  </thead>\n",
       "  <tbody>\n",
       "    <tr>\n",
       "      <th>0</th>\n",
       "      <td>208129</td>\n",
       "      <td>note</td>\n",
       "      <td>2025-04-30</td>\n",
       "      <td>2023-10-31</td>\n",
       "      <td>2025-10-31</td>\n",
       "      <td>0.503765</td>\n",
       "      <td>0.000000</td>\n",
       "      <td>5.000</td>\n",
       "      <td>100.402344</td>\n",
       "      <td>100.412129</td>\n",
       "      <td>100.407236</td>\n",
       "      <td>0.000000</td>\n",
       "      <td>100.407236</td>\n",
       "      <td>0.041371</td>\n",
       "      <td>46713000000</td>\n",
       "      <td>0.050000</td>\n",
       "    </tr>\n",
       "    <tr>\n",
       "      <th>1</th>\n",
       "      <td>208213</td>\n",
       "      <td>note</td>\n",
       "      <td>2025-04-30</td>\n",
       "      <td>2024-04-30</td>\n",
       "      <td>2026-04-30</td>\n",
       "      <td>0.999316</td>\n",
       "      <td>0.000000</td>\n",
       "      <td>4.875</td>\n",
       "      <td>100.931250</td>\n",
       "      <td>100.950766</td>\n",
       "      <td>100.941008</td>\n",
       "      <td>0.000000</td>\n",
       "      <td>100.941008</td>\n",
       "      <td>0.039086</td>\n",
       "      <td>69310000000</td>\n",
       "      <td>0.009388</td>\n",
       "    </tr>\n",
       "    <tr>\n",
       "      <th>2</th>\n",
       "      <td>208302</td>\n",
       "      <td>note</td>\n",
       "      <td>2025-04-30</td>\n",
       "      <td>2024-10-31</td>\n",
       "      <td>2026-10-31</td>\n",
       "      <td>1.503080</td>\n",
       "      <td>0.000000</td>\n",
       "      <td>4.125</td>\n",
       "      <td>100.570312</td>\n",
       "      <td>100.593750</td>\n",
       "      <td>100.582031</td>\n",
       "      <td>0.000000</td>\n",
       "      <td>100.582031</td>\n",
       "      <td>0.037147</td>\n",
       "      <td>70157000000</td>\n",
       "      <td>0.005812</td>\n",
       "    </tr>\n",
       "    <tr>\n",
       "      <th>3</th>\n",
       "      <td>208385</td>\n",
       "      <td>note</td>\n",
       "      <td>2025-04-30</td>\n",
       "      <td>2025-04-30</td>\n",
       "      <td>2027-04-30</td>\n",
       "      <td>1.998631</td>\n",
       "      <td>0.000000</td>\n",
       "      <td>3.750</td>\n",
       "      <td>100.292969</td>\n",
       "      <td>100.296875</td>\n",
       "      <td>100.294922</td>\n",
       "      <td>0.000000</td>\n",
       "      <td>100.294922</td>\n",
       "      <td>0.035981</td>\n",
       "      <td>73725000000</td>\n",
       "      <td>0.001473</td>\n",
       "    </tr>\n",
       "    <tr>\n",
       "      <th>4</th>\n",
       "      <td>207960</td>\n",
       "      <td>note</td>\n",
       "      <td>2025-04-30</td>\n",
       "      <td>2022-10-31</td>\n",
       "      <td>2027-10-31</td>\n",
       "      <td>2.502396</td>\n",
       "      <td>0.000000</td>\n",
       "      <td>4.125</td>\n",
       "      <td>101.269531</td>\n",
       "      <td>101.296875</td>\n",
       "      <td>101.283203</td>\n",
       "      <td>0.000000</td>\n",
       "      <td>101.283203</td>\n",
       "      <td>0.035803</td>\n",
       "      <td>43000000000</td>\n",
       "      <td>0.006385</td>\n",
       "    </tr>\n",
       "    <tr>\n",
       "      <th>5</th>\n",
       "      <td>208044</td>\n",
       "      <td>note</td>\n",
       "      <td>2025-04-30</td>\n",
       "      <td>2023-04-30</td>\n",
       "      <td>2028-04-30</td>\n",
       "      <td>3.000684</td>\n",
       "      <td>0.000000</td>\n",
       "      <td>3.500</td>\n",
       "      <td>99.726562</td>\n",
       "      <td>99.753906</td>\n",
       "      <td>99.740234</td>\n",
       "      <td>0.000000</td>\n",
       "      <td>99.740234</td>\n",
       "      <td>0.035912</td>\n",
       "      <td>47183000000</td>\n",
       "      <td>-0.000867</td>\n",
       "    </tr>\n",
       "    <tr>\n",
       "      <th>6</th>\n",
       "      <td>208132</td>\n",
       "      <td>note</td>\n",
       "      <td>2025-04-30</td>\n",
       "      <td>2023-10-31</td>\n",
       "      <td>2028-10-31</td>\n",
       "      <td>3.504449</td>\n",
       "      <td>0.000000</td>\n",
       "      <td>4.875</td>\n",
       "      <td>104.042969</td>\n",
       "      <td>104.082031</td>\n",
       "      <td>104.062500</td>\n",
       "      <td>0.000000</td>\n",
       "      <td>104.062500</td>\n",
       "      <td>0.036240</td>\n",
       "      <td>51999000000</td>\n",
       "      <td>0.013318</td>\n",
       "    </tr>\n",
       "    <tr>\n",
       "      <th>7</th>\n",
       "      <td>208216</td>\n",
       "      <td>note</td>\n",
       "      <td>2025-04-30</td>\n",
       "      <td>2024-04-30</td>\n",
       "      <td>2029-04-30</td>\n",
       "      <td>4.000000</td>\n",
       "      <td>0.000000</td>\n",
       "      <td>4.625</td>\n",
       "      <td>103.539062</td>\n",
       "      <td>103.578125</td>\n",
       "      <td>103.558594</td>\n",
       "      <td>0.000000</td>\n",
       "      <td>103.558594</td>\n",
       "      <td>0.036603</td>\n",
       "      <td>70332000000</td>\n",
       "      <td>0.008761</td>\n",
       "    </tr>\n",
       "    <tr>\n",
       "      <th>8</th>\n",
       "      <td>208305</td>\n",
       "      <td>note</td>\n",
       "      <td>2025-04-30</td>\n",
       "      <td>2024-10-31</td>\n",
       "      <td>2029-10-31</td>\n",
       "      <td>4.503765</td>\n",
       "      <td>0.000000</td>\n",
       "      <td>4.125</td>\n",
       "      <td>101.765625</td>\n",
       "      <td>101.804688</td>\n",
       "      <td>101.785156</td>\n",
       "      <td>0.000000</td>\n",
       "      <td>101.785156</td>\n",
       "      <td>0.036877</td>\n",
       "      <td>71181000000</td>\n",
       "      <td>0.004428</td>\n",
       "    </tr>\n",
       "    <tr>\n",
       "      <th>9</th>\n",
       "      <td>208388</td>\n",
       "      <td>note</td>\n",
       "      <td>2025-04-30</td>\n",
       "      <td>2025-04-30</td>\n",
       "      <td>2030-04-30</td>\n",
       "      <td>4.999316</td>\n",
       "      <td>0.000000</td>\n",
       "      <td>3.875</td>\n",
       "      <td>100.710938</td>\n",
       "      <td>100.718750</td>\n",
       "      <td>100.714844</td>\n",
       "      <td>0.000000</td>\n",
       "      <td>100.714844</td>\n",
       "      <td>0.037173</td>\n",
       "      <td>74794000000</td>\n",
       "      <td>0.001425</td>\n",
       "    </tr>\n",
       "    <tr>\n",
       "      <th>10</th>\n",
       "      <td>208133</td>\n",
       "      <td>note</td>\n",
       "      <td>2025-04-30</td>\n",
       "      <td>2023-10-31</td>\n",
       "      <td>2030-10-31</td>\n",
       "      <td>5.503080</td>\n",
       "      <td>0.000000</td>\n",
       "      <td>4.875</td>\n",
       "      <td>105.324219</td>\n",
       "      <td>105.367188</td>\n",
       "      <td>105.345703</td>\n",
       "      <td>0.000000</td>\n",
       "      <td>105.345703</td>\n",
       "      <td>0.037870</td>\n",
       "      <td>37505000000</td>\n",
       "      <td>0.010443</td>\n",
       "    </tr>\n",
       "    <tr>\n",
       "      <th>11</th>\n",
       "      <td>208217</td>\n",
       "      <td>note</td>\n",
       "      <td>2025-04-30</td>\n",
       "      <td>2024-04-30</td>\n",
       "      <td>2031-04-30</td>\n",
       "      <td>5.998631</td>\n",
       "      <td>0.000000</td>\n",
       "      <td>4.625</td>\n",
       "      <td>104.125000</td>\n",
       "      <td>104.167969</td>\n",
       "      <td>104.146484</td>\n",
       "      <td>0.000000</td>\n",
       "      <td>104.146484</td>\n",
       "      <td>0.038451</td>\n",
       "      <td>44210000000</td>\n",
       "      <td>0.006783</td>\n",
       "    </tr>\n",
       "    <tr>\n",
       "      <th>12</th>\n",
       "      <td>208306</td>\n",
       "      <td>note</td>\n",
       "      <td>2025-04-30</td>\n",
       "      <td>2024-10-31</td>\n",
       "      <td>2031-10-31</td>\n",
       "      <td>6.502396</td>\n",
       "      <td>0.000000</td>\n",
       "      <td>4.125</td>\n",
       "      <td>101.269531</td>\n",
       "      <td>101.308594</td>\n",
       "      <td>101.289062</td>\n",
       "      <td>0.000000</td>\n",
       "      <td>101.289062</td>\n",
       "      <td>0.038971</td>\n",
       "      <td>44742000000</td>\n",
       "      <td>0.002136</td>\n",
       "    </tr>\n",
       "    <tr>\n",
       "      <th>13</th>\n",
       "      <td>208389</td>\n",
       "      <td>note</td>\n",
       "      <td>2025-04-30</td>\n",
       "      <td>2025-04-30</td>\n",
       "      <td>2032-04-30</td>\n",
       "      <td>7.000684</td>\n",
       "      <td>0.000000</td>\n",
       "      <td>4.000</td>\n",
       "      <td>100.421875</td>\n",
       "      <td>100.437500</td>\n",
       "      <td>100.429688</td>\n",
       "      <td>0.000000</td>\n",
       "      <td>100.429688</td>\n",
       "      <td>0.039286</td>\n",
       "      <td>47013000000</td>\n",
       "      <td>0.000613</td>\n",
       "    </tr>\n",
       "    <tr>\n",
       "      <th>14</th>\n",
       "      <td>207975</td>\n",
       "      <td>note</td>\n",
       "      <td>2025-04-30</td>\n",
       "      <td>2022-11-15</td>\n",
       "      <td>2032-11-15</td>\n",
       "      <td>7.545517</td>\n",
       "      <td>0.917127</td>\n",
       "      <td>4.125</td>\n",
       "      <td>100.984375</td>\n",
       "      <td>101.027344</td>\n",
       "      <td>101.005859</td>\n",
       "      <td>1.891575</td>\n",
       "      <td>102.897434</td>\n",
       "      <td>0.039671</td>\n",
       "      <td>111255000000</td>\n",
       "      <td>0.001430</td>\n",
       "    </tr>\n",
       "    <tr>\n",
       "      <th>15</th>\n",
       "      <td>208060</td>\n",
       "      <td>note</td>\n",
       "      <td>2025-04-30</td>\n",
       "      <td>2023-05-15</td>\n",
       "      <td>2033-05-15</td>\n",
       "      <td>8.041068</td>\n",
       "      <td>0.917127</td>\n",
       "      <td>3.375</td>\n",
       "      <td>95.492188</td>\n",
       "      <td>95.531250</td>\n",
       "      <td>95.511719</td>\n",
       "      <td>1.547652</td>\n",
       "      <td>97.059371</td>\n",
       "      <td>0.040339</td>\n",
       "      <td>108465000000</td>\n",
       "      <td>-0.005732</td>\n",
       "    </tr>\n",
       "    <tr>\n",
       "      <th>16</th>\n",
       "      <td>208147</td>\n",
       "      <td>note</td>\n",
       "      <td>2025-04-30</td>\n",
       "      <td>2023-11-15</td>\n",
       "      <td>2033-11-15</td>\n",
       "      <td>8.544832</td>\n",
       "      <td>0.917127</td>\n",
       "      <td>4.500</td>\n",
       "      <td>103.070312</td>\n",
       "      <td>103.121094</td>\n",
       "      <td>103.095703</td>\n",
       "      <td>2.063536</td>\n",
       "      <td>105.159239</td>\n",
       "      <td>0.040655</td>\n",
       "      <td>114743000000</td>\n",
       "      <td>0.003815</td>\n",
       "    </tr>\n",
       "    <tr>\n",
       "      <th>17</th>\n",
       "      <td>208231</td>\n",
       "      <td>note</td>\n",
       "      <td>2025-04-30</td>\n",
       "      <td>2024-05-15</td>\n",
       "      <td>2034-05-15</td>\n",
       "      <td>9.040383</td>\n",
       "      <td>0.917127</td>\n",
       "      <td>4.375</td>\n",
       "      <td>101.906250</td>\n",
       "      <td>101.957031</td>\n",
       "      <td>101.931641</td>\n",
       "      <td>2.006215</td>\n",
       "      <td>103.937856</td>\n",
       "      <td>0.041169</td>\n",
       "      <td>132878000000</td>\n",
       "      <td>0.002127</td>\n",
       "    </tr>\n",
       "    <tr>\n",
       "      <th>18</th>\n",
       "      <td>208320</td>\n",
       "      <td>note</td>\n",
       "      <td>2025-04-30</td>\n",
       "      <td>2024-11-15</td>\n",
       "      <td>2034-11-15</td>\n",
       "      <td>9.544148</td>\n",
       "      <td>0.917127</td>\n",
       "      <td>4.250</td>\n",
       "      <td>100.765625</td>\n",
       "      <td>100.796875</td>\n",
       "      <td>100.781250</td>\n",
       "      <td>1.948895</td>\n",
       "      <td>102.730145</td>\n",
       "      <td>0.041486</td>\n",
       "      <td>139056000000</td>\n",
       "      <td>0.000865</td>\n",
       "    </tr>\n",
       "    <tr>\n",
       "      <th>19</th>\n",
       "      <td>208360</td>\n",
       "      <td>note</td>\n",
       "      <td>2025-04-30</td>\n",
       "      <td>2025-02-15</td>\n",
       "      <td>2035-02-15</td>\n",
       "      <td>9.796030</td>\n",
       "      <td>0.408840</td>\n",
       "      <td>4.625</td>\n",
       "      <td>103.750000</td>\n",
       "      <td>103.765625</td>\n",
       "      <td>103.757812</td>\n",
       "      <td>0.945442</td>\n",
       "      <td>104.703254</td>\n",
       "      <td>0.041535</td>\n",
       "      <td>138704000000</td>\n",
       "      <td>0.003692</td>\n",
       "    </tr>\n",
       "  </tbody>\n",
       "</table>\n",
       "</div>"
      ],
      "text/plain": [
       "    KYTREASNO  type quote date issue date maturity date       ttm  \\\n",
       "0      208129  note 2025-04-30 2023-10-31    2025-10-31  0.503765   \n",
       "1      208213  note 2025-04-30 2024-04-30    2026-04-30  0.999316   \n",
       "2      208302  note 2025-04-30 2024-10-31    2026-10-31  1.503080   \n",
       "3      208385  note 2025-04-30 2025-04-30    2027-04-30  1.998631   \n",
       "4      207960  note 2025-04-30 2022-10-31    2027-10-31  2.502396   \n",
       "5      208044  note 2025-04-30 2023-04-30    2028-04-30  3.000684   \n",
       "6      208132  note 2025-04-30 2023-10-31    2028-10-31  3.504449   \n",
       "7      208216  note 2025-04-30 2024-04-30    2029-04-30  4.000000   \n",
       "8      208305  note 2025-04-30 2024-10-31    2029-10-31  4.503765   \n",
       "9      208388  note 2025-04-30 2025-04-30    2030-04-30  4.999316   \n",
       "10     208133  note 2025-04-30 2023-10-31    2030-10-31  5.503080   \n",
       "11     208217  note 2025-04-30 2024-04-30    2031-04-30  5.998631   \n",
       "12     208306  note 2025-04-30 2024-10-31    2031-10-31  6.502396   \n",
       "13     208389  note 2025-04-30 2025-04-30    2032-04-30  7.000684   \n",
       "14     207975  note 2025-04-30 2022-11-15    2032-11-15  7.545517   \n",
       "15     208060  note 2025-04-30 2023-05-15    2033-05-15  8.041068   \n",
       "16     208147  note 2025-04-30 2023-11-15    2033-11-15  8.544832   \n",
       "17     208231  note 2025-04-30 2024-05-15    2034-05-15  9.040383   \n",
       "18     208320  note 2025-04-30 2024-11-15    2034-11-15  9.544148   \n",
       "19     208360  note 2025-04-30 2025-02-15    2035-02-15  9.796030   \n",
       "\n",
       "    accrual fraction  cpn rate         bid         ask       price  \\\n",
       "0           0.000000     5.000  100.402344  100.412129  100.407236   \n",
       "1           0.000000     4.875  100.931250  100.950766  100.941008   \n",
       "2           0.000000     4.125  100.570312  100.593750  100.582031   \n",
       "3           0.000000     3.750  100.292969  100.296875  100.294922   \n",
       "4           0.000000     4.125  101.269531  101.296875  101.283203   \n",
       "5           0.000000     3.500   99.726562   99.753906   99.740234   \n",
       "6           0.000000     4.875  104.042969  104.082031  104.062500   \n",
       "7           0.000000     4.625  103.539062  103.578125  103.558594   \n",
       "8           0.000000     4.125  101.765625  101.804688  101.785156   \n",
       "9           0.000000     3.875  100.710938  100.718750  100.714844   \n",
       "10          0.000000     4.875  105.324219  105.367188  105.345703   \n",
       "11          0.000000     4.625  104.125000  104.167969  104.146484   \n",
       "12          0.000000     4.125  101.269531  101.308594  101.289062   \n",
       "13          0.000000     4.000  100.421875  100.437500  100.429688   \n",
       "14          0.917127     4.125  100.984375  101.027344  101.005859   \n",
       "15          0.917127     3.375   95.492188   95.531250   95.511719   \n",
       "16          0.917127     4.500  103.070312  103.121094  103.095703   \n",
       "17          0.917127     4.375  101.906250  101.957031  101.931641   \n",
       "18          0.917127     4.250  100.765625  100.796875  100.781250   \n",
       "19          0.408840     4.625  103.750000  103.765625  103.757812   \n",
       "\n",
       "    accrued int  dirty price       ytm    total size  computed_ytm  \n",
       "0      0.000000   100.407236  0.041371   46713000000      0.050000  \n",
       "1      0.000000   100.941008  0.039086   69310000000      0.009388  \n",
       "2      0.000000   100.582031  0.037147   70157000000      0.005812  \n",
       "3      0.000000   100.294922  0.035981   73725000000      0.001473  \n",
       "4      0.000000   101.283203  0.035803   43000000000      0.006385  \n",
       "5      0.000000    99.740234  0.035912   47183000000     -0.000867  \n",
       "6      0.000000   104.062500  0.036240   51999000000      0.013318  \n",
       "7      0.000000   103.558594  0.036603   70332000000      0.008761  \n",
       "8      0.000000   101.785156  0.036877   71181000000      0.004428  \n",
       "9      0.000000   100.714844  0.037173   74794000000      0.001425  \n",
       "10     0.000000   105.345703  0.037870   37505000000      0.010443  \n",
       "11     0.000000   104.146484  0.038451   44210000000      0.006783  \n",
       "12     0.000000   101.289062  0.038971   44742000000      0.002136  \n",
       "13     0.000000   100.429688  0.039286   47013000000      0.000613  \n",
       "14     1.891575   102.897434  0.039671  111255000000      0.001430  \n",
       "15     1.547652    97.059371  0.040339  108465000000     -0.005732  \n",
       "16     2.063536   105.159239  0.040655  114743000000      0.003815  \n",
       "17     2.006215   103.937856  0.041169  132878000000      0.002127  \n",
       "18     1.948895   102.730145  0.041486  139056000000      0.000865  \n",
       "19     0.945442   104.703254  0.041535  138704000000      0.003692  "
      ]
     },
     "execution_count": 158,
     "metadata": {},
     "output_type": "execute_result"
    }
   ],
   "source": [
    "def compute_ytm(row):\n",
    "    \n",
    "    starting_ytm_guess = 5/100 # Cheat: row['ytm']\n",
    "    years_to_maturity = row['quote date'].year - row['maturity date'].year # Dont use ttm directly, we need year count (int)\n",
    "    coupon_percent = row[\"cpn rate\"] / 100\n",
    "\n",
    "    return fsolve(\n",
    "         ytm_solver, starting_ytm_guess, args=(years_to_maturity, coupon_percent, row[\"price\"])\n",
    "    )[0]\n",
    "\n",
    "\n",
    "df[\"computed_ytm\"] = df.apply(compute_ytm, axis=1)\n",
    "df"
   ]
  },
  {
   "cell_type": "code",
   "execution_count": 159,
   "id": "346db334",
   "metadata": {},
   "outputs": [
    {
     "data": {
      "text/html": [
       "<div>\n",
       "<style scoped>\n",
       "    .dataframe tbody tr th:only-of-type {\n",
       "        vertical-align: middle;\n",
       "    }\n",
       "\n",
       "    .dataframe tbody tr th {\n",
       "        vertical-align: top;\n",
       "    }\n",
       "\n",
       "    .dataframe thead th {\n",
       "        text-align: right;\n",
       "    }\n",
       "</style>\n",
       "<table border=\"1\" class=\"dataframe\">\n",
       "  <thead>\n",
       "    <tr style=\"text-align: right;\">\n",
       "      <th></th>\n",
       "      <th>computed_ytm</th>\n",
       "      <th>ytm</th>\n",
       "    </tr>\n",
       "  </thead>\n",
       "  <tbody>\n",
       "    <tr>\n",
       "      <th>computed_ytm</th>\n",
       "      <td>1.000000</td>\n",
       "      <td>0.160681</td>\n",
       "    </tr>\n",
       "    <tr>\n",
       "      <th>ytm</th>\n",
       "      <td>0.160681</td>\n",
       "      <td>1.000000</td>\n",
       "    </tr>\n",
       "  </tbody>\n",
       "</table>\n",
       "</div>"
      ],
      "text/plain": [
       "              computed_ytm       ytm\n",
       "computed_ytm      1.000000  0.160681\n",
       "ytm               0.160681  1.000000"
      ]
     },
     "execution_count": 159,
     "metadata": {},
     "output_type": "execute_result"
    }
   ],
   "source": [
    "df[['computed_ytm', 'ytm']].corr(method=\"pearson\") # Values not very close, and have poor correlation, I think I made an error"
   ]
  },
  {
   "cell_type": "code",
   "execution_count": 160,
   "id": "81a02b78",
   "metadata": {},
   "outputs": [
    {
     "data": {
      "text/plain": [
       "<AxesSubplot:xlabel='ttm'>"
      ]
     },
     "execution_count": 160,
     "metadata": {},
     "output_type": "execute_result"
    },
    {
     "data": {
      "image/png": "[encoded data removed]",
      "text/plain": [
       "<Figure size 640x480 with 1 Axes>"
      ]
     },
     "metadata": {},
     "output_type": "display_data"
    }
   ],
   "source": [
    "df.plot(x='ttm', y='computed_ytm')"
   ]
  },
  {
   "cell_type": "code",
   "execution_count": null,
   "id": "2aa24bf4",
   "metadata": {},
   "outputs": [],
   "source": []
  }
 ],
 "metadata": {
  "kernelspec": {
   "display_name": "Python 3 (ipykernel)",
   "language": "python",
   "name": "python3"
  },
  "language_info": {
   "codemirror_mode": {
    "name": "ipython",
    "version": 3
   },
   "file_extension": ".py",
   "mimetype": "text/x-python",
   "name": "python",
   "nbconvert_exporter": "python",
   "pygments_lexer": "ipython3",
   "version": "3.9.13"
  }
 },
 "nbformat": 4,
 "nbformat_minor": 5
}
