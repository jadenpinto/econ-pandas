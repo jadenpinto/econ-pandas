{
 "cells": [
  {
   "cell_type": "markdown",
   "id": "872417c3",
   "metadata": {},
   "source": [
    "# 1. Money Markets"
   ]
  },
  {
   "cell_type": "markdown",
   "id": "ce0892ee",
   "metadata": {},
   "source": [
    "1.1\n",
    "\n",
    "1. False\n",
    "2. True"
   ]
  },
  {
   "cell_type": "markdown",
   "id": "9cc70abf",
   "metadata": {},
   "source": [
    "1.2\n",
    "\n",
    "1. Yes SOFR and Treasury-bill rates are correlated conceptually. In money markets, both rates are considered to be the risk-free rates (alongside the FED funds rate). Additionally, both are short-term rates\n",
    "\n",
    "2. No:\n",
    "- SOFR is historic and overnight (based on previous night's repo transaction). T-bill rates are not as short-term, they can have a maximum maturity of 52 weeks\n",
    "- Additionally, T-bills enter the market via dealers with their rates being determinted intially by an auction among the ~20 dealers, and enter the economy via the secondary market"
   ]
  },
  {
   "cell_type": "markdown",
   "id": "f0456e02",
   "metadata": {},
   "source": [
    "1.3\n",
    "\n",
    "Series with high serial correlation: SOFR rates, Fed Funds rates, and T-bill yields "
   ]
  },
  {
   "cell_type": "markdown",
   "id": "3d183efb",
   "metadata": {},
   "source": [
    "1.4\n",
    "\n",
    "1. False\n",
    "2. True\n",
    "3. False"
   ]
  },
  {
   "cell_type": "markdown",
   "id": "d6cd0afb",
   "metadata": {},
   "source": [
    "1.5\n",
    "\n",
    "1. Yes. The overnight repo and T-bill will offer similar rates which will typically be higher than the interest rates offered by banks on savings\n",
    "2. Yes. The overnight repo and T-bills are nearly risk free, while savings accounts for such large amounts is risky since there's a chance the bank collapses within the 5 days, and the FDIC insurance protection offered on the savings account will not suffice for the large sums held by asset managers"
   ]
  },
  {
   "cell_type": "markdown",
   "id": "4bc4a6bd",
   "metadata": {},
   "source": [
    "# 2. Treasury Debt"
   ]
  },
  {
   "cell_type": "code",
   "execution_count": 60,
   "id": "b1f328f1",
   "metadata": {},
   "outputs": [
    {
     "data": {
      "text/plain": [
       "['treasury specs', 'NVDA', 'adjusted prices']"
      ]
     },
     "execution_count": 60,
     "metadata": {},
     "output_type": "execute_result"
    }
   ],
   "source": [
    "import pandas as pd\n",
    "\n",
    "exam_three_data = 'exam_3_data.xlsx'\n",
    "\n",
    "tabs = pd.ExcelFile(exam_three_data).sheet_names\n",
    "tabs"
   ]
  },
  {
   "cell_type": "code",
   "execution_count": 61,
   "id": "7c707eeb",
   "metadata": {},
   "outputs": [
    {
     "data": {
      "text/html": [
       "<div>\n",
       "<style scoped>\n",
       "    .dataframe tbody tr th:only-of-type {\n",
       "        vertical-align: middle;\n",
       "    }\n",
       "\n",
       "    .dataframe tbody tr th {\n",
       "        vertical-align: top;\n",
       "    }\n",
       "\n",
       "    .dataframe thead th {\n",
       "        text-align: right;\n",
       "    }\n",
       "</style>\n",
       "<table border=\"1\" class=\"dataframe\">\n",
       "  <thead>\n",
       "    <tr style=\"text-align: right;\">\n",
       "      <th>Unnamed: 0</th>\n",
       "      <th>name</th>\n",
       "      <th>issue date</th>\n",
       "      <th>maturity date</th>\n",
       "      <th>amount issued</th>\n",
       "      <th>ttm (years)</th>\n",
       "      <th>inflation adjustment</th>\n",
       "      <th>coupon rate</th>\n",
       "      <th>accrued interest</th>\n",
       "      <th>price quoted (bid)</th>\n",
       "      <th>ytm (bid)</th>\n",
       "    </tr>\n",
       "  </thead>\n",
       "  <tbody>\n",
       "    <tr>\n",
       "      <th>CB3 Govt</th>\n",
       "      <td>TREASURY BILL</td>\n",
       "      <td>2024-10-03</td>\n",
       "      <td>2025-10-02</td>\n",
       "      <td>207649000000</td>\n",
       "      <td>0.238193</td>\n",
       "      <td>1</td>\n",
       "      <td>0</td>\n",
       "      <td>0</td>\n",
       "      <td>4.2575</td>\n",
       "      <td>4.362</td>\n",
       "    </tr>\n",
       "    <tr>\n",
       "      <th>CT10 Govt</th>\n",
       "      <td>US TREASURY N/B</td>\n",
       "      <td>2025-05-15</td>\n",
       "      <td>2035-05-15</td>\n",
       "      <td>96526000000</td>\n",
       "      <td>9.853525</td>\n",
       "      <td>1</td>\n",
       "      <td>0.0425</td>\n",
       "      <td>0.612092</td>\n",
       "      <td>99-06+</td>\n",
       "      <td>4.35</td>\n",
       "    </tr>\n",
       "  </tbody>\n",
       "</table>\n",
       "</div>"
      ],
      "text/plain": [
       "Unnamed: 0             name issue date maturity date amount issued  \\\n",
       "CB3 Govt      TREASURY BILL 2024-10-03    2025-10-02  207649000000   \n",
       "CT10 Govt   US TREASURY N/B 2025-05-15    2035-05-15   96526000000   \n",
       "\n",
       "Unnamed: 0 ttm (years) inflation adjustment coupon rate accrued interest  \\\n",
       "CB3 Govt      0.238193                    1           0                0   \n",
       "CT10 Govt     9.853525                    1      0.0425         0.612092   \n",
       "\n",
       "Unnamed: 0 price quoted (bid) ytm (bid)  \n",
       "CB3 Govt               4.2575     4.362  \n",
       "CT10 Govt              99-06+      4.35  "
      ]
     },
     "execution_count": 61,
     "metadata": {},
     "output_type": "execute_result"
    }
   ],
   "source": [
    "df = pd.read_excel(exam_three_data, \"treasury specs\")\n",
    "df\n",
    "\n",
    "df = df.set_index('Unnamed: 0')\n",
    "df = df.transpose()\n",
    "\n",
    "df_no_tips = df.drop(index=\"CTII10 Govt\") # Ignore TIPS note for now\n",
    "df_no_tips"
   ]
  },
  {
   "cell_type": "markdown",
   "id": "6170cfcd",
   "metadata": {},
   "source": [
    "# 2.1"
   ]
  },
  {
   "cell_type": "code",
   "execution_count": 62,
   "id": "80d90951",
   "metadata": {},
   "outputs": [
    {
     "data": {
      "text/html": [
       "<div>\n",
       "<style scoped>\n",
       "    .dataframe tbody tr th:only-of-type {\n",
       "        vertical-align: middle;\n",
       "    }\n",
       "\n",
       "    .dataframe tbody tr th {\n",
       "        vertical-align: top;\n",
       "    }\n",
       "\n",
       "    .dataframe thead th {\n",
       "        text-align: right;\n",
       "    }\n",
       "</style>\n",
       "<table border=\"1\" class=\"dataframe\">\n",
       "  <thead>\n",
       "    <tr style=\"text-align: right;\">\n",
       "      <th>Unnamed: 0</th>\n",
       "      <th>name</th>\n",
       "      <th>issue date</th>\n",
       "      <th>maturity date</th>\n",
       "      <th>amount issued</th>\n",
       "      <th>ttm (years)</th>\n",
       "      <th>inflation adjustment</th>\n",
       "      <th>coupon rate</th>\n",
       "      <th>accrued interest</th>\n",
       "      <th>price quoted (bid)</th>\n",
       "      <th>ytm (bid)</th>\n",
       "      <th>bid_price_decimal</th>\n",
       "    </tr>\n",
       "  </thead>\n",
       "  <tbody>\n",
       "    <tr>\n",
       "      <th>CB3 Govt</th>\n",
       "      <td>TREASURY BILL</td>\n",
       "      <td>2024-10-03</td>\n",
       "      <td>2025-10-02</td>\n",
       "      <td>207649000000</td>\n",
       "      <td>0.238193</td>\n",
       "      <td>1</td>\n",
       "      <td>0</td>\n",
       "      <td>0</td>\n",
       "      <td>4.2575</td>\n",
       "      <td>4.362</td>\n",
       "      <td>98.971104</td>\n",
       "    </tr>\n",
       "    <tr>\n",
       "      <th>CT10 Govt</th>\n",
       "      <td>US TREASURY N/B</td>\n",
       "      <td>2025-05-15</td>\n",
       "      <td>2035-05-15</td>\n",
       "      <td>96526000000</td>\n",
       "      <td>9.853525</td>\n",
       "      <td>1</td>\n",
       "      <td>0.0425</td>\n",
       "      <td>0.612092</td>\n",
       "      <td>99-06+</td>\n",
       "      <td>4.35</td>\n",
       "      <td>99.203125</td>\n",
       "    </tr>\n",
       "  </tbody>\n",
       "</table>\n",
       "</div>"
      ],
      "text/plain": [
       "Unnamed: 0             name issue date maturity date amount issued  \\\n",
       "CB3 Govt      TREASURY BILL 2024-10-03    2025-10-02  207649000000   \n",
       "CT10 Govt   US TREASURY N/B 2025-05-15    2035-05-15   96526000000   \n",
       "\n",
       "Unnamed: 0 ttm (years) inflation adjustment coupon rate accrued interest  \\\n",
       "CB3 Govt      0.238193                    1           0                0   \n",
       "CT10 Govt     9.853525                    1      0.0425         0.612092   \n",
       "\n",
       "Unnamed: 0 price quoted (bid) ytm (bid)  bid_price_decimal  \n",
       "CB3 Govt               4.2575     4.362          98.971104  \n",
       "CT10 Govt              99-06+      4.35          99.203125  "
      ]
     },
     "execution_count": 62,
     "metadata": {},
     "output_type": "execute_result"
    }
   ],
   "source": [
    "# 1. Calculate the bid price in dollars and quoted in decimals\n",
    "\n",
    "# CB3 Govt (Treasury Bill) -> price quoted is discount\n",
    "# Price =  Face Value × (1 - (Discount Rate × Days to Maturity / 360))\n",
    "t_bill_discount_rate = df_no_tips.loc['CB3 Govt', 'price quoted (bid)'] / 100\n",
    "t_bills_days_to_mat = round(df_no_tips.loc['CB3 Govt', 'ttm (years)'] * 365)\n",
    "face_value = 100\n",
    "t_bill_bid_price = face_value * (1 - (t_bill_discount_rate * t_bills_days_to_mat / 360))\n",
    "\n",
    "# CT10 Govt (US Treasury Note) -> 99-06+: 99 => 99, 06 => 6/32, + => 1/64\n",
    "t_note_bid_price = 99 + 6/32 + 1/64\n",
    "\n",
    "df_no_tips['bid_price_decimal'] = [t_bill_bid_price, t_note_bid_price]\n",
    "df_no_tips"
   ]
  },
  {
   "cell_type": "markdown",
   "id": "2cc80b51",
   "metadata": {},
   "source": [
    "# 2.2"
   ]
  },
  {
   "cell_type": "code",
   "execution_count": 63,
   "id": "c8b47723",
   "metadata": {},
   "outputs": [
    {
     "data": {
      "text/html": [
       "<div>\n",
       "<style scoped>\n",
       "    .dataframe tbody tr th:only-of-type {\n",
       "        vertical-align: middle;\n",
       "    }\n",
       "\n",
       "    .dataframe tbody tr th {\n",
       "        vertical-align: top;\n",
       "    }\n",
       "\n",
       "    .dataframe thead th {\n",
       "        text-align: right;\n",
       "    }\n",
       "</style>\n",
       "<table border=\"1\" class=\"dataframe\">\n",
       "  <thead>\n",
       "    <tr style=\"text-align: right;\">\n",
       "      <th>Unnamed: 0</th>\n",
       "      <th>name</th>\n",
       "      <th>issue date</th>\n",
       "      <th>maturity date</th>\n",
       "      <th>amount issued</th>\n",
       "      <th>ttm (years)</th>\n",
       "      <th>inflation adjustment</th>\n",
       "      <th>coupon rate</th>\n",
       "      <th>accrued interest</th>\n",
       "      <th>price quoted (bid)</th>\n",
       "      <th>ytm (bid)</th>\n",
       "      <th>bid_price_decimal</th>\n",
       "      <th>dirty_price</th>\n",
       "    </tr>\n",
       "  </thead>\n",
       "  <tbody>\n",
       "    <tr>\n",
       "      <th>CB3 Govt</th>\n",
       "      <td>TREASURY BILL</td>\n",
       "      <td>2024-10-03</td>\n",
       "      <td>2025-10-02</td>\n",
       "      <td>207649000000</td>\n",
       "      <td>0.238193</td>\n",
       "      <td>1</td>\n",
       "      <td>0</td>\n",
       "      <td>0</td>\n",
       "      <td>4.2575</td>\n",
       "      <td>4.362</td>\n",
       "      <td>98.971104</td>\n",
       "      <td>98.971104</td>\n",
       "    </tr>\n",
       "    <tr>\n",
       "      <th>CT10 Govt</th>\n",
       "      <td>US TREASURY N/B</td>\n",
       "      <td>2025-05-15</td>\n",
       "      <td>2035-05-15</td>\n",
       "      <td>96526000000</td>\n",
       "      <td>9.853525</td>\n",
       "      <td>1</td>\n",
       "      <td>0.0425</td>\n",
       "      <td>0.612092</td>\n",
       "      <td>99-06+</td>\n",
       "      <td>4.35</td>\n",
       "      <td>99.203125</td>\n",
       "      <td>99.815217</td>\n",
       "    </tr>\n",
       "  </tbody>\n",
       "</table>\n",
       "</div>"
      ],
      "text/plain": [
       "Unnamed: 0             name issue date maturity date amount issued  \\\n",
       "CB3 Govt      TREASURY BILL 2024-10-03    2025-10-02  207649000000   \n",
       "CT10 Govt   US TREASURY N/B 2025-05-15    2035-05-15   96526000000   \n",
       "\n",
       "Unnamed: 0 ttm (years) inflation adjustment coupon rate accrued interest  \\\n",
       "CB3 Govt      0.238193                    1           0                0   \n",
       "CT10 Govt     9.853525                    1      0.0425         0.612092   \n",
       "\n",
       "Unnamed: 0 price quoted (bid) ytm (bid)  bid_price_decimal dirty_price  \n",
       "CB3 Govt               4.2575     4.362          98.971104   98.971104  \n",
       "CT10 Govt              99-06+      4.35          99.203125   99.815217  "
      ]
     },
     "execution_count": 63,
     "metadata": {},
     "output_type": "execute_result"
    }
   ],
   "source": [
    "# 2. Dirty Prices: Price treasury with accrued interest\n",
    "df_no_tips['dirty_price'] = df_no_tips['bid_price_decimal'] + df_no_tips['accrued interest']\n",
    "df_no_tips"
   ]
  },
  {
   "cell_type": "markdown",
   "id": "3c795302",
   "metadata": {},
   "source": [
    "# 2.3"
   ]
  },
  {
   "cell_type": "code",
   "execution_count": 64,
   "id": "7afed325",
   "metadata": {},
   "outputs": [
    {
     "data": {
      "text/plain": [
       "4.349118120706895"
      ]
     },
     "execution_count": 64,
     "metadata": {},
     "output_type": "execute_result"
    }
   ],
   "source": [
    "from scipy.optimize import fsolve\n",
    "\n",
    "def bond_price(n, c, ytm, F=100):\n",
    "    price = 0\n",
    "    \n",
    "    for i in range(1, 2*n + 1):\n",
    "       price += ((F*c/2)) / ((1 + ytm/2) ** i)\n",
    "    \n",
    "    price += (F) / ((1 + ytm/2) ** (2*n))\n",
    "    \n",
    "    return price\n",
    "\n",
    "# bond_price(n=10, c=0.0425, ytm=4.35/100)\n",
    "\n",
    "def ytm_solver(y, n, c, actual_bond_price):\n",
    "   return bond_price(n, c, y) - actual_bond_price\n",
    "\n",
    "n = 10\n",
    "c = 0.0425\n",
    "actual_bond_price = 99.203125 # clean price\n",
    "    \n",
    "starting_ytm_guess = 0.05 # can use any reasonable value. 5% because we know current treasuries have YTM btw 4.5 & 5.5\n",
    "\n",
    "ytm_answer = fsolve(ytm_solver, starting_ytm_guess, args=(n, c, actual_bond_price))\n",
    "ytm = ytm_answer[0]\n",
    "computed_ytm_percentage = ytm * 100\n",
    "computed_ytm_percentage"
   ]
  },
  {
   "cell_type": "code",
   "execution_count": 65,
   "id": "cddc2d11",
   "metadata": {},
   "outputs": [
    {
     "name": "stderr",
     "output_type": "stream",
     "text": [
      "C:\\Users\\DELL\\anaconda3\\lib\\site-packages\\scipy\\optimize\\_minpack_py.py:175: RuntimeWarning: The iteration is not making good progress, as measured by the \n",
      "  improvement from the last ten iterations.\n",
      "  warnings.warn(msg, RuntimeWarning)\n"
     ]
    },
    {
     "data": {
      "text/html": [
       "<div>\n",
       "<style scoped>\n",
       "    .dataframe tbody tr th:only-of-type {\n",
       "        vertical-align: middle;\n",
       "    }\n",
       "\n",
       "    .dataframe tbody tr th {\n",
       "        vertical-align: top;\n",
       "    }\n",
       "\n",
       "    .dataframe thead th {\n",
       "        text-align: right;\n",
       "    }\n",
       "</style>\n",
       "<table border=\"1\" class=\"dataframe\">\n",
       "  <thead>\n",
       "    <tr style=\"text-align: right;\">\n",
       "      <th>Unnamed: 0</th>\n",
       "      <th>name</th>\n",
       "      <th>issue date</th>\n",
       "      <th>maturity date</th>\n",
       "      <th>amount issued</th>\n",
       "      <th>ttm (years)</th>\n",
       "      <th>inflation adjustment</th>\n",
       "      <th>coupon rate</th>\n",
       "      <th>accrued interest</th>\n",
       "      <th>price quoted (bid)</th>\n",
       "      <th>ytm (bid)</th>\n",
       "      <th>bid_price_decimal</th>\n",
       "      <th>dirty_price</th>\n",
       "      <th>computed_ytm</th>\n",
       "    </tr>\n",
       "  </thead>\n",
       "  <tbody>\n",
       "    <tr>\n",
       "      <th>CB3 Govt</th>\n",
       "      <td>TREASURY BILL</td>\n",
       "      <td>2024-10-03</td>\n",
       "      <td>2025-10-02</td>\n",
       "      <td>207649000000</td>\n",
       "      <td>0.238193</td>\n",
       "      <td>1</td>\n",
       "      <td>0</td>\n",
       "      <td>0</td>\n",
       "      <td>4.2575</td>\n",
       "      <td>4.362</td>\n",
       "      <td>98.971104</td>\n",
       "      <td>98.971104</td>\n",
       "      <td>5.000000</td>\n",
       "    </tr>\n",
       "    <tr>\n",
       "      <th>CT10 Govt</th>\n",
       "      <td>US TREASURY N/B</td>\n",
       "      <td>2025-05-15</td>\n",
       "      <td>2035-05-15</td>\n",
       "      <td>96526000000</td>\n",
       "      <td>9.853525</td>\n",
       "      <td>1</td>\n",
       "      <td>0.0425</td>\n",
       "      <td>0.612092</td>\n",
       "      <td>99-06+</td>\n",
       "      <td>4.35</td>\n",
       "      <td>99.203125</td>\n",
       "      <td>99.815217</td>\n",
       "      <td>4.349118</td>\n",
       "    </tr>\n",
       "  </tbody>\n",
       "</table>\n",
       "</div>"
      ],
      "text/plain": [
       "Unnamed: 0             name issue date maturity date amount issued  \\\n",
       "CB3 Govt      TREASURY BILL 2024-10-03    2025-10-02  207649000000   \n",
       "CT10 Govt   US TREASURY N/B 2025-05-15    2035-05-15   96526000000   \n",
       "\n",
       "Unnamed: 0 ttm (years) inflation adjustment coupon rate accrued interest  \\\n",
       "CB3 Govt      0.238193                    1           0                0   \n",
       "CT10 Govt     9.853525                    1      0.0425         0.612092   \n",
       "\n",
       "Unnamed: 0 price quoted (bid) ytm (bid)  bid_price_decimal dirty_price  \\\n",
       "CB3 Govt               4.2575     4.362          98.971104   98.971104   \n",
       "CT10 Govt              99-06+      4.35          99.203125   99.815217   \n",
       "\n",
       "Unnamed: 0  computed_ytm  \n",
       "CB3 Govt        5.000000  \n",
       "CT10 Govt       4.349118  "
      ]
     },
     "execution_count": 65,
     "metadata": {},
     "output_type": "execute_result"
    }
   ],
   "source": [
    "from scipy.optimize import fsolve\n",
    "\n",
    "def bond_price(n, c, ytm, F=100):\n",
    "    price = 0\n",
    "    \n",
    "    for i in range(1, 2*n + 1):\n",
    "       price += ((F*c/2)) / ((1 + ytm/2) ** i)\n",
    "    \n",
    "    price += (F) / ((1 + ytm/2) ** (2*n))\n",
    "    \n",
    "    return price\n",
    "\n",
    "\n",
    "def compute_ytm(n, c, actual_bond_price): # actual bond price -> clean price\n",
    "\n",
    "    def ytm_solver(y, n, c, actual_bond_price):\n",
    "       return bond_price(n, c, y) - actual_bond_price\n",
    "\n",
    "    starting_ytm_guess = 0.05 # can use any reasonable value. 5% because we know current treasuries have YTM btw 4.5 & 5.5\n",
    "\n",
    "    ytm_answer = fsolve(ytm_solver, starting_ytm_guess, args=(n, c, actual_bond_price))\n",
    "    ytm = ytm_answer[0]\n",
    "    computed_ytm_percentage = ytm * 100\n",
    "    return computed_ytm_percentage\n",
    "\n",
    "t_bill_computed_ytm = compute_ytm(n=0, c=0, actual_bond_price=98.971104)\n",
    "t_note_computed_ytm = compute_ytm(n=10, c=0.0425, actual_bond_price=99.203125)\n",
    "\n",
    "df_no_tips[\"computed_ytm\"] = [t_bill_computed_ytm, t_note_computed_ytm]\n",
    "df_no_tips\n",
    "\n",
    "# Computed YTM for the T note is very close (4.349 vs 4.35), but the T bill's is not as close (5 vs 4.3)"
   ]
  },
  {
   "cell_type": "markdown",
   "id": "d9492c52",
   "metadata": {},
   "source": [
    "# 2.4"
   ]
  },
  {
   "cell_type": "code",
   "execution_count": 66,
   "id": "5a044aa1",
   "metadata": {},
   "outputs": [
    {
     "name": "stdout",
     "output_type": "stream",
     "text": [
      "T-note: Old price = 99.203125, updated price = 97.61114895623012\n",
      "T-bill: price unaffected\n"
     ]
    }
   ],
   "source": [
    "# YTM of 10 year nominal jumps up 20bps => YTM of T-notes (CT10 Govt) up 0.20 % \n",
    "\n",
    "prev_price = df_no_tips.loc['CT10 Govt', 'bid_price_decimal']\n",
    "new_price = bond_price(n=10, c=0.0425, ytm=(4.35+0.2)/100)\n",
    "\n",
    "print(f\"T-note: Old price = {prev_price}, updated price = {new_price}\")\n",
    "print(\"T-bill: price unaffected\")"
   ]
  },
  {
   "cell_type": "markdown",
   "id": "a40bef7d",
   "metadata": {},
   "source": [
    "# 2.5"
   ]
  },
  {
   "cell_type": "code",
   "execution_count": 67,
   "id": "ddb29208",
   "metadata": {},
   "outputs": [
    {
     "name": "stdout",
     "output_type": "stream",
     "text": [
      "Over the next 10 years, market anticipates inflation of ~2.3509999999999995% per year\n"
     ]
    }
   ],
   "source": [
    "nominal_ytm = df.loc['CT10 Govt', 'ytm (bid)']\n",
    "tips_ytm = df.loc['CTII10 Govt', 'ytm (bid)']\n",
    "\n",
    "breakeven = nominal_ytm - tips_ytm\n",
    "\n",
    "print(f\"Over the next 10 years, market anticipates inflation of ~{breakeven}% per year\")"
   ]
  },
  {
   "cell_type": "markdown",
   "id": "bd50d4ca",
   "metadata": {},
   "source": [
    "# 2.6"
   ]
  },
  {
   "cell_type": "code",
   "execution_count": 68,
   "id": "6d0d3604",
   "metadata": {},
   "outputs": [
    {
     "data": {
      "text/html": [
       "<div>\n",
       "<style scoped>\n",
       "    .dataframe tbody tr th:only-of-type {\n",
       "        vertical-align: middle;\n",
       "    }\n",
       "\n",
       "    .dataframe tbody tr th {\n",
       "        vertical-align: top;\n",
       "    }\n",
       "\n",
       "    .dataframe thead th {\n",
       "        text-align: right;\n",
       "    }\n",
       "</style>\n",
       "<table border=\"1\" class=\"dataframe\">\n",
       "  <thead>\n",
       "    <tr style=\"text-align: right;\">\n",
       "      <th>Unnamed: 0</th>\n",
       "      <th>name</th>\n",
       "      <th>issue date</th>\n",
       "      <th>maturity date</th>\n",
       "      <th>amount issued</th>\n",
       "      <th>ttm (years)</th>\n",
       "      <th>inflation adjustment</th>\n",
       "      <th>coupon rate</th>\n",
       "      <th>accrued interest</th>\n",
       "      <th>price quoted (bid)</th>\n",
       "      <th>ytm (bid)</th>\n",
       "      <th>bid_price_decimal</th>\n",
       "      <th>computed_ytm</th>\n",
       "    </tr>\n",
       "  </thead>\n",
       "  <tbody>\n",
       "    <tr>\n",
       "      <th>CTII10 Govt</th>\n",
       "      <td>TSY INFL IX N/B</td>\n",
       "      <td>2025-01-31</td>\n",
       "      <td>2035-01-15</td>\n",
       "      <td>57625000000</td>\n",
       "      <td>9.524983</td>\n",
       "      <td>1.01691</td>\n",
       "      <td>0.02125</td>\n",
       "      <td>1.015539</td>\n",
       "      <td>101-03</td>\n",
       "      <td>1.999</td>\n",
       "      <td>101.09375</td>\n",
       "      <td>2.003756</td>\n",
       "    </tr>\n",
       "  </tbody>\n",
       "</table>\n",
       "</div>"
      ],
      "text/plain": [
       "Unnamed: 0              name issue date maturity date amount issued  \\\n",
       "CTII10 Govt  TSY INFL IX N/B 2025-01-31    2035-01-15   57625000000   \n",
       "\n",
       "Unnamed: 0  ttm (years) inflation adjustment coupon rate accrued interest  \\\n",
       "CTII10 Govt    9.524983              1.01691     0.02125         1.015539   \n",
       "\n",
       "Unnamed: 0  price quoted (bid) ytm (bid)  bid_price_decimal  computed_ytm  \n",
       "CTII10 Govt             101-03     1.999          101.09375      2.003756  "
      ]
     },
     "execution_count": 68,
     "metadata": {},
     "output_type": "execute_result"
    }
   ],
   "source": [
    "tips_df = df[df[\"name\"] == \"TSY INFL IX N/B\"].copy()\n",
    "\n",
    "# Price: 101-03 => 101 + 3/32\n",
    "tips_price = 101 + 3/32\n",
    "tips_df['bid_price_decimal'] = tips_price\n",
    "\n",
    "# YTM:\n",
    "tips_computed_ytm = compute_ytm(n=10, c=0.02125, actual_bond_price=101.09375)\n",
    "tips_df[\"computed_ytm\"] = tips_computed_ytm\n",
    "tips_df # Very accurate (2 vs 1.999)"
   ]
  },
  {
   "cell_type": "markdown",
   "id": "7cb7f55f",
   "metadata": {},
   "source": [
    "# 2.7"
   ]
  },
  {
   "cell_type": "code",
   "execution_count": 69,
   "id": "0820a983",
   "metadata": {
    "scrolled": true
   },
   "outputs": [
    {
     "name": "stdout",
     "output_type": "stream",
     "text": [
      "Coupon Pay Out at the next rate = 622619036.71875\n"
     ]
    }
   ],
   "source": [
    "tips_df\n",
    "\n",
    "principal = df.loc['CTII10 Govt', 'amount issued']\n",
    "inflation = df.loc['CTII10 Govt', 'inflation adjustment']\n",
    "semi_annual_coupon = df.loc['CTII10 Govt', 'coupon rate'] / 2 # TIPS have Semi-annual payments, so use half the coupon rate\n",
    "\n",
    "# Total dollars of coupon it will pay out at the next date:\n",
    "next_coupon_payment = principal * inflation * semi_annual_coupon\n",
    "print(f\"Coupon Pay Out at the next rate = {next_coupon_payment}\")"
   ]
  },
  {
   "cell_type": "markdown",
   "id": "0f073818",
   "metadata": {},
   "source": [
    "# 3. Equity"
   ]
  },
  {
   "cell_type": "markdown",
   "id": "02a2ac78",
   "metadata": {},
   "source": [
    "# 3.1"
   ]
  },
  {
   "cell_type": "code",
   "execution_count": 70,
   "id": "e33945fa",
   "metadata": {},
   "outputs": [
    {
     "data": {
      "text/html": [
       "<div>\n",
       "<style scoped>\n",
       "    .dataframe tbody tr th:only-of-type {\n",
       "        vertical-align: middle;\n",
       "    }\n",
       "\n",
       "    .dataframe tbody tr th {\n",
       "        vertical-align: top;\n",
       "    }\n",
       "\n",
       "    .dataframe thead th {\n",
       "        text-align: right;\n",
       "    }\n",
       "</style>\n",
       "<table border=\"1\" class=\"dataframe\">\n",
       "  <thead>\n",
       "    <tr style=\"text-align: right;\">\n",
       "      <th></th>\n",
       "      <th>Date</th>\n",
       "      <th>Unadjusted Price</th>\n",
       "    </tr>\n",
       "  </thead>\n",
       "  <tbody>\n",
       "    <tr>\n",
       "      <th>0</th>\n",
       "      <td>2024-06-06</td>\n",
       "      <td>1209.98</td>\n",
       "    </tr>\n",
       "    <tr>\n",
       "      <th>1</th>\n",
       "      <td>2024-06-07</td>\n",
       "      <td>1208.88</td>\n",
       "    </tr>\n",
       "    <tr>\n",
       "      <th>2</th>\n",
       "      <td>2024-06-10</td>\n",
       "      <td>121.79</td>\n",
       "    </tr>\n",
       "    <tr>\n",
       "      <th>3</th>\n",
       "      <td>2024-06-11</td>\n",
       "      <td>120.91</td>\n",
       "    </tr>\n",
       "  </tbody>\n",
       "</table>\n",
       "</div>"
      ],
      "text/plain": [
       "        Date  Unadjusted Price\n",
       "0 2024-06-06           1209.98\n",
       "1 2024-06-07           1208.88\n",
       "2 2024-06-10            121.79\n",
       "3 2024-06-11            120.91"
      ]
     },
     "execution_count": 70,
     "metadata": {},
     "output_type": "execute_result"
    }
   ],
   "source": [
    "df = pd.read_excel(exam_three_data, \"NVDA\")\n",
    "df"
   ]
  },
  {
   "cell_type": "code",
   "execution_count": 71,
   "id": "10336b9b",
   "metadata": {},
   "outputs": [
    {
     "data": {
      "text/html": [
       "<div>\n",
       "<style scoped>\n",
       "    .dataframe tbody tr th:only-of-type {\n",
       "        vertical-align: middle;\n",
       "    }\n",
       "\n",
       "    .dataframe tbody tr th {\n",
       "        vertical-align: top;\n",
       "    }\n",
       "\n",
       "    .dataframe thead th {\n",
       "        text-align: right;\n",
       "    }\n",
       "</style>\n",
       "<table border=\"1\" class=\"dataframe\">\n",
       "  <thead>\n",
       "    <tr style=\"text-align: right;\">\n",
       "      <th></th>\n",
       "      <th>Date</th>\n",
       "      <th>Unadjusted Price</th>\n",
       "      <th>adjusted_price</th>\n",
       "      <th>Dividend</th>\n",
       "      <th>daily_return_percent</th>\n",
       "    </tr>\n",
       "  </thead>\n",
       "  <tbody>\n",
       "    <tr>\n",
       "      <th>0</th>\n",
       "      <td>2024-06-06</td>\n",
       "      <td>1209.98</td>\n",
       "      <td>120.998</td>\n",
       "      <td>0.0</td>\n",
       "      <td>NaN</td>\n",
       "    </tr>\n",
       "    <tr>\n",
       "      <th>1</th>\n",
       "      <td>2024-06-07</td>\n",
       "      <td>1208.88</td>\n",
       "      <td>120.888</td>\n",
       "      <td>0.0</td>\n",
       "      <td>-0.090911</td>\n",
       "    </tr>\n",
       "    <tr>\n",
       "      <th>2</th>\n",
       "      <td>2024-06-10</td>\n",
       "      <td>121.79</td>\n",
       "      <td>121.790</td>\n",
       "      <td>0.1</td>\n",
       "      <td>0.828866</td>\n",
       "    </tr>\n",
       "    <tr>\n",
       "      <th>3</th>\n",
       "      <td>2024-06-11</td>\n",
       "      <td>120.91</td>\n",
       "      <td>120.910</td>\n",
       "      <td>0.0</td>\n",
       "      <td>-0.722555</td>\n",
       "    </tr>\n",
       "  </tbody>\n",
       "</table>\n",
       "</div>"
      ],
      "text/plain": [
       "        Date  Unadjusted Price  adjusted_price  Dividend  daily_return_percent\n",
       "0 2024-06-06           1209.98         120.998       0.0                   NaN\n",
       "1 2024-06-07           1208.88         120.888       0.0             -0.090911\n",
       "2 2024-06-10            121.79         121.790       0.1              0.828866\n",
       "3 2024-06-11            120.91         120.910       0.0             -0.722555"
      ]
     },
     "execution_count": 71,
     "metadata": {},
     "output_type": "execute_result"
    }
   ],
   "source": [
    "# Derive adjusted price accounting for stock split\n",
    "df['adjusted_price'] = df['Unadjusted Price']\n",
    "df.loc[0:1, 'adjusted_price'] = df['adjusted_price'] / 10\n",
    "\n",
    "# add dividend col\n",
    "df['Dividend'] = 0\n",
    "df.loc[df['Date'] == \"2024-06-10\", 'Dividend'] = 0.1\n",
    "df\n",
    "\n",
    "# Compute daily (Dividend-Adjusted) return:\n",
    "prev_val = df[\"adjusted_price\"].shift(1)\n",
    "todays_val = df[\"adjusted_price\"] + df[\"Dividend\"]\n",
    "df[\"daily_return_percent\"] = ((todays_val - prev_val) / prev_val )* 100\n",
    "df"
   ]
  },
  {
   "cell_type": "markdown",
   "id": "3904a9ce",
   "metadata": {},
   "source": [
    "# 3.2"
   ]
  },
  {
   "cell_type": "code",
   "execution_count": 72,
   "id": "d14652f3",
   "metadata": {},
   "outputs": [
    {
     "data": {
      "text/html": [
       "<div>\n",
       "<style scoped>\n",
       "    .dataframe tbody tr th:only-of-type {\n",
       "        vertical-align: middle;\n",
       "    }\n",
       "\n",
       "    .dataframe tbody tr th {\n",
       "        vertical-align: top;\n",
       "    }\n",
       "\n",
       "    .dataframe thead th {\n",
       "        text-align: right;\n",
       "    }\n",
       "</style>\n",
       "<table border=\"1\" class=\"dataframe\">\n",
       "  <thead>\n",
       "    <tr style=\"text-align: right;\">\n",
       "      <th></th>\n",
       "      <th>date</th>\n",
       "      <th>SPY</th>\n",
       "      <th>NVDA</th>\n",
       "      <th>SPY_returns_percent</th>\n",
       "      <th>NVDA_returns_percent</th>\n",
       "    </tr>\n",
       "  </thead>\n",
       "  <tbody>\n",
       "    <tr>\n",
       "      <th>0</th>\n",
       "      <td>2020-06-03</td>\n",
       "      <td>293.9492</td>\n",
       "      <td>8.7395</td>\n",
       "      <td>NaN</td>\n",
       "      <td>NaN</td>\n",
       "    </tr>\n",
       "    <tr>\n",
       "      <th>1</th>\n",
       "      <td>2020-06-04</td>\n",
       "      <td>293.1771</td>\n",
       "      <td>8.7405</td>\n",
       "      <td>-0.262664</td>\n",
       "      <td>0.011442</td>\n",
       "    </tr>\n",
       "    <tr>\n",
       "      <th>2</th>\n",
       "      <td>2020-06-05</td>\n",
       "      <td>300.6911</td>\n",
       "      <td>8.8935</td>\n",
       "      <td>2.562956</td>\n",
       "      <td>1.750472</td>\n",
       "    </tr>\n",
       "    <tr>\n",
       "      <th>3</th>\n",
       "      <td>2020-06-08</td>\n",
       "      <td>304.3257</td>\n",
       "      <td>8.7789</td>\n",
       "      <td>1.208749</td>\n",
       "      <td>-1.288582</td>\n",
       "    </tr>\n",
       "    <tr>\n",
       "      <th>4</th>\n",
       "      <td>2020-06-09</td>\n",
       "      <td>302.0564</td>\n",
       "      <td>9.0192</td>\n",
       "      <td>-0.745681</td>\n",
       "      <td>2.737245</td>\n",
       "    </tr>\n",
       "    <tr>\n",
       "      <th>...</th>\n",
       "      <td>...</td>\n",
       "      <td>...</td>\n",
       "      <td>...</td>\n",
       "      <td>...</td>\n",
       "      <td>...</td>\n",
       "    </tr>\n",
       "    <tr>\n",
       "      <th>1010</th>\n",
       "      <td>2024-06-07</td>\n",
       "      <td>534.0100</td>\n",
       "      <td>120.8781</td>\n",
       "      <td>-0.121573</td>\n",
       "      <td>-0.090918</td>\n",
       "    </tr>\n",
       "    <tr>\n",
       "      <th>1011</th>\n",
       "      <td>2024-06-10</td>\n",
       "      <td>535.6600</td>\n",
       "      <td>121.7800</td>\n",
       "      <td>0.308983</td>\n",
       "      <td>0.746124</td>\n",
       "    </tr>\n",
       "    <tr>\n",
       "      <th>1012</th>\n",
       "      <td>2024-06-11</td>\n",
       "      <td>536.9500</td>\n",
       "      <td>120.9100</td>\n",
       "      <td>0.240824</td>\n",
       "      <td>-0.714403</td>\n",
       "    </tr>\n",
       "    <tr>\n",
       "      <th>1013</th>\n",
       "      <td>2024-06-12</td>\n",
       "      <td>541.3600</td>\n",
       "      <td>125.2000</td>\n",
       "      <td>0.821306</td>\n",
       "      <td>3.548094</td>\n",
       "    </tr>\n",
       "    <tr>\n",
       "      <th>1014</th>\n",
       "      <td>2024-06-13</td>\n",
       "      <td>542.4500</td>\n",
       "      <td>129.6100</td>\n",
       "      <td>0.201345</td>\n",
       "      <td>3.522364</td>\n",
       "    </tr>\n",
       "  </tbody>\n",
       "</table>\n",
       "<p>1015 rows × 5 columns</p>\n",
       "</div>"
      ],
      "text/plain": [
       "           date       SPY      NVDA  SPY_returns_percent  NVDA_returns_percent\n",
       "0    2020-06-03  293.9492    8.7395                  NaN                   NaN\n",
       "1    2020-06-04  293.1771    8.7405            -0.262664              0.011442\n",
       "2    2020-06-05  300.6911    8.8935             2.562956              1.750472\n",
       "3    2020-06-08  304.3257    8.7789             1.208749             -1.288582\n",
       "4    2020-06-09  302.0564    9.0192            -0.745681              2.737245\n",
       "...         ...       ...       ...                  ...                   ...\n",
       "1010 2024-06-07  534.0100  120.8781            -0.121573             -0.090918\n",
       "1011 2024-06-10  535.6600  121.7800             0.308983              0.746124\n",
       "1012 2024-06-11  536.9500  120.9100             0.240824             -0.714403\n",
       "1013 2024-06-12  541.3600  125.2000             0.821306              3.548094\n",
       "1014 2024-06-13  542.4500  129.6100             0.201345              3.522364\n",
       "\n",
       "[1015 rows x 5 columns]"
      ]
     },
     "execution_count": 72,
     "metadata": {},
     "output_type": "execute_result"
    }
   ],
   "source": [
    "df = pd.read_excel(exam_three_data, \"adjusted prices\")\n",
    "\n",
    "def get_returns_percent(df, col_name):\n",
    "    df[f\"{col_name}_returns_percent\"] = df[col_name].pct_change() * 100\n",
    "    return df\n",
    "\n",
    "df = get_returns_percent(df, 'SPY')\n",
    "df = get_returns_percent(df, 'NVDA')\n",
    "df"
   ]
  },
  {
   "cell_type": "code",
   "execution_count": 73,
   "id": "ecbbb2de",
   "metadata": {},
   "outputs": [
    {
     "name": "stdout",
     "output_type": "stream",
     "text": [
      "SPY_returns_percent: Annualized Mean Return: 16.70434073878169, Annualized Volatility Return = 17.153514180393294 \n",
      "NVDA_returns_percent: Annualized Mean Return: 80.14424454347815, Annualized Volatility Return = 51.43549115322548 \n"
     ]
    }
   ],
   "source": [
    "import math\n",
    "\n",
    "def annualized_stats(df, col_name):\n",
    "    mean_returns = df[col_name].mean() * 252\n",
    "    vol_returns = df[col_name].std() * math.sqrt(252)\n",
    "        \n",
    "    print(f\"{col_name}: Annualized Mean Return: {mean_returns}, Annualized Volatility Return = {vol_returns} \")\n",
    "    \n",
    "annualized_stats(df, 'SPY_returns_percent')\n",
    "annualized_stats(df, 'NVDA_returns_percent')"
   ]
  },
  {
   "cell_type": "markdown",
   "id": "9a1c36ba",
   "metadata": {},
   "source": [
    "# 3.3"
   ]
  },
  {
   "cell_type": "code",
   "execution_count": 74,
   "id": "189b0c0f",
   "metadata": {},
   "outputs": [
    {
     "name": "stdout",
     "output_type": "stream",
     "text": [
      "OLS beta: 2.041560237024373\n",
      "On average: When SPY (representative of the market) moves by 1%, NVDA moves by 2%. This means NVDA is a risky stock.\n"
     ]
    }
   ],
   "source": [
    "import statsmodels.api as sm\n",
    "\n",
    "# Independant variable (SPY_returns_percent) cannot contain inf or nan values. Drop rows with NaNs\n",
    "df_clean = df.dropna()\n",
    "\n",
    "X = df_clean['SPY_returns_percent']\n",
    "Y = df_clean['NVDA_returns_percent']\n",
    "\n",
    "X = sm.add_constant(X)\n",
    "model = sm.OLS(df_clean['NVDA_returns_percent'], X)\n",
    "results = model.fit()\n",
    "\n",
    "beta = results.params['SPY_returns_percent']\n",
    "print(f\"OLS beta: {beta}\")\n",
    "print(\"On average: When SPY (representative of the market) moves by 1%, NVDA moves by 2%. This means NVDA is a risky stock.\")"
   ]
  },
  {
   "cell_type": "code",
   "execution_count": null,
   "id": "8a22420a",
   "metadata": {},
   "outputs": [],
   "source": []
  }
 ],
 "metadata": {
  "kernelspec": {
   "display_name": "Python 3 (ipykernel)",
   "language": "python",
   "name": "python3"
  },
  "language_info": {
   "codemirror_mode": {
    "name": "ipython",
    "version": 3
   },
   "file_extension": ".py",
   "mimetype": "text/x-python",
   "name": "python",
   "nbconvert_exporter": "python",
   "pygments_lexer": "ipython3",
   "version": "3.9.13"
  }
 },
 "nbformat": 4,
 "nbformat_minor": 5
}
